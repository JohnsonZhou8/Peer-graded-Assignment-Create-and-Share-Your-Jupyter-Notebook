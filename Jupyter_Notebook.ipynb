{
 "cells": [
  {
   "cell_type": "markdown",
   "metadata": {},
   "source": [
    "<center>\n",
    "    <img src=\"https://s3-api.us-geo.objectstorage.softlayer.net/cf-courses-data/CognitiveClass/Logos/organization_logo/organization_logo.png\" width=\"300\" alt=\"cognitiveclass.ai logo\"  />\n",
    "</center>\n"
   ]
  },
  {
   "cell_type": "markdown",
   "metadata": {},
   "source": [
    "#### Add your code below following the instructions given in the course\n"
   ]
  },
  {
   "cell_type": "markdown",
   "metadata": {},
   "source": [
    "# My Jupyter Notebook on IBM Watson Studio"
   ]
  },
  {
   "cell_type": "markdown",
   "metadata": {},
   "source": [
    "**Cheng Zhou**\n",
    "<br>\n",
    "I am a business program manager."
   ]
  },
  {
   "cell_type": "markdown",
   "metadata": {},
   "source": [
    "### I will use the code 'print' to display what I am typing now in the next cell."
   ]
  },
  {
   "cell_type": "code",
   "execution_count": 4,
   "metadata": {},
   "outputs": [
    {
     "name": "stdout",
     "output_type": "stream",
     "text": [
      "I will the use code 'print' to display what I am typing now in the next cell.\n"
     ]
    }
   ],
   "source": [
    "#add a code to describe the last sentence.\n",
    "print (\"I will the use code 'print' to display what I am typing now in the next cell.\")"
   ]
  },
  {
   "cell_type": "markdown",
   "metadata": {},
   "source": [
    "## Bulleted list / horizontal rule\n",
    "<u>I can learn these lessons below:<u>\n",
    "* Data Management\n",
    "* Data Integration and transformation\n",
    "* Data Visualization\n",
    "* Model building\n",
    "* Model deployment\n",
    "* ...\n",
    "<br>\n",
    "    \n",
    "## Numbered list / horizontal rule\n",
    "<u>You can find the IBM tools below:<u>\n",
    "1. Watson knowledge catalog\n",
    "2. Data refinery\n",
    "3. Modeler flows\n",
    "4. SPSS\n",
    "5. Auto AI\n",
    "6. OpenScale\n",
    "<br>\n",
    "\n",
    "## Tables\n",
    "### Development Environments Table\n",
    "| Open Source | Tools Name|\n",
    "| --- | ---|\n",
    "| Yes | Jupyter|\n",
    "| Yes | Rstudio |\n",
    "| Yes | Apache Zeppelin |\n",
    "| Yes | Spyder |\n",
    "<br>\n",
    "\n",
    "## Hyperlinks\n",
    "### You can start your journey of Data Science here: <a href=\"https://dataplatform.cloud.ibm.com/gallery\">IBM Cloud Gallery</a>\n",
    "<br>\n",
    "\n",
    "## Image    \n",
    "<img src=\"https://www.sudeep.co/images/post_images/2018-02-09-Understanding-the-Data-Science-Lifecycle/chart.png\">\n",
    "<br>\n",
    "\n",
    "## Highlighting code/syntax\n",
    "``` Python\n",
    "mylist = ['Cheng Zhou', 1, True]\n",
    "```\n",
    "<br>\n",
    "\n",
    "## Blocked quotes\n",
    "> Here you are!\n",
    "<br>\n",
    "\n",
    "## strikethrough\n",
    "~~Here you are!~~"
   ]
  },
  {
   "cell_type": "code",
   "execution_count": null,
   "metadata": {},
   "outputs": [],
   "source": []
  }
 ],
 "metadata": {
  "kernelspec": {
   "display_name": "Python",
   "language": "python",
   "name": "conda-env-python-py"
  },
  "language_info": {
   "codemirror_mode": {
    "name": "ipython",
    "version": 3
   },
   "file_extension": ".py",
   "mimetype": "text/x-python",
   "name": "python",
   "nbconvert_exporter": "python",
   "pygments_lexer": "ipython3",
   "version": "3.7.12"
  }
 },
 "nbformat": 4,
 "nbformat_minor": 4
}
